{
 "cells": [
  {
   "cell_type": "code",
   "execution_count": 2,
   "metadata": {},
   "outputs": [],
   "source": [
    "import pandas as pd\n",
    "import networkx as nx\n",
    "from collections import defaultdict"
   ]
  },
  {
   "cell_type": "code",
   "execution_count": 119,
   "metadata": {},
   "outputs": [],
   "source": [
    "def create_graph(game_data, week_num):\n",
    "    G = nx.DiGraph()\n",
    "    margin_totals = defaultdict(float)\n",
    "    game_counts = defaultdict(int)\n",
    "    \n",
    "    # Iterate over each game result\n",
    "    for _, row in game_data.iterrows():\n",
    "        winner = row['winner']\n",
    "        loser = row['loser']\n",
    "        week = row['week']\n",
    "        # abs margin or percept, linear decay, reward away wins\n",
    "        margin = row['margin_victory'] * week / week_num * (2 if not row['home_team_winner'] else 1) \n",
    "\n",
    "        key = (loser, winner)\n",
    "        margin_totals[key] += margin\n",
    "        game_counts[key] += 1\n",
    "\n",
    "    # Add edges with average margin as weight\n",
    "    for (loser, winner), total_margin in margin_totals.items():\n",
    "        avg_margin = total_margin / game_counts[(loser, winner)]\n",
    "        G.add_edge(loser, winner, weight=avg_margin)\n",
    "    \n",
    "    return G"
   ]
  },
  {
   "cell_type": "code",
   "execution_count": 53,
   "metadata": {},
   "outputs": [],
   "source": [
    "# Function to calculate rankings based on the weighted graph\n",
    "def calculate_rankings(graph):\n",
    "    # Calculate PageRank with weights\n",
    "    return pd.DataFrame(nx.pagerank(graph, weight='weight').items(), columns=['Team', 'Ranking'])"
   ]
  },
  {
   "cell_type": "code",
   "execution_count": 69,
   "metadata": {},
   "outputs": [],
   "source": [
    "# Assume 'game_results' is your complete dataset of NFL game results\n",
    "game_results = pd.read_csv('../data/nfl_games.csv')"
   ]
  },
  {
   "cell_type": "code",
   "execution_count": 120,
   "metadata": {},
   "outputs": [
    {
     "name": "stdout",
     "output_type": "stream",
     "text": [
      "  Team  Ranking SeasonWeek  Season  Week\n",
      "0  PHI  0.03934   2024_W02    2024     2\n",
      "1  ATL  0.04988   2024_W02    2024     2\n",
      "2  CHI  0.01924   2024_W02    2024     2\n",
      "3  HOU  0.03630   2024_W02    2024     2\n",
      "4  DEN  0.01645   2024_W02    2024     2\n",
      "SeasonWeek  2006_W02  2006_W03  2006_W04  2006_W05  2006_W06  2006_W07  \\\n",
      "Team                                                                     \n",
      "ARI          0.05767   0.01694   0.00924   0.00897   0.00870   0.00762   \n",
      "ATL          0.03417   0.02544   0.05557   0.05373   0.05325   0.03257   \n",
      "BAL          0.03486   0.02559   0.02524   0.02340   0.04358   0.02593   \n",
      "BUF          0.02926   0.02200   0.02135   0.01775   0.01950   0.03467   \n",
      "CAR          0.01756   0.01424   0.05788   0.05823   0.05609   0.03767   \n",
      "\n",
      "SeasonWeek  2006_W08  2006_W09  2006_W10  2006_W11  ...  2023_W11  2023_W12  \\\n",
      "Team                                                ...                       \n",
      "ARI          0.00841   0.00782   0.00707   0.00591  ...   0.00798   0.00792   \n",
      "ATL          0.01833   0.01436   0.01202   0.00951  ...   0.01030   0.01264   \n",
      "BAL          0.04136   0.03618   0.03200   0.03249  ...   0.10652   0.06355   \n",
      "BUF          0.01088   0.02441   0.03029   0.02031  ...   0.03253   0.03686   \n",
      "CAR          0.02279   0.02008   0.01949   0.01750  ...   0.01095   0.00784   \n",
      "\n",
      "SeasonWeek  2023_W13  2023_W14  2023_W15  2023_W16  2023_W17  2023_W18  \\\n",
      "Team                                                                     \n",
      "ARI          0.03517   0.03148   0.02420   0.02536   0.02706   0.03283   \n",
      "ATL          0.01271   0.01215   0.01283   0.02295   0.02338   0.02159   \n",
      "BAL          0.06506   0.05779   0.07061   0.09486   0.09742   0.08539   \n",
      "BUF          0.01936   0.03232   0.04060   0.03717   0.03046   0.03084   \n",
      "CAR          0.00791   0.00565   0.00626   0.00629   0.00576   0.00552   \n",
      "\n",
      "SeasonWeek  2024_W02  2024_W03  \n",
      "Team                            \n",
      "ARI          0.02919   0.03019  \n",
      "ATL          0.04988   0.06600  \n",
      "BAL          0.01645   0.01406  \n",
      "BUF          0.05679   0.02922  \n",
      "CAR          0.01645   0.02624  \n",
      "\n",
      "[5 rows x 293 columns]\n"
     ]
    }
   ],
   "source": [
    "# Initialize an empty list to store rankings DataFrames\n",
    "ranking_dfs = []\n",
    "\n",
    "# Loop over each distinct season in the dataset\n",
    "for season in game_results['season'].unique():\n",
    "    # Filter the game data for the current season\n",
    "    season_data = game_results[game_results['season'] == season]\n",
    "    \n",
    "    # Loop over the weeks for this season\n",
    "    for week in range(2, season_data['week'].max() + 1):\n",
    "        # Filter the game data up to the current week for the current season\n",
    "        filtered_data = season_data[season_data['week'] <= week]\n",
    "        \n",
    "        # Create the directed graph for the current season and weeks\n",
    "        G = create_graph(filtered_data, week)\n",
    "        \n",
    "        # Calculate the rankings based on the weighted graph\n",
    "        rankings = calculate_rankings(G)\n",
    "\n",
    "        # Round the rankings to 4 decimal places\n",
    "        rankings['Ranking'] = rankings['Ranking'].round(5)\n",
    "        \n",
    "        # Add columns indicating the season and week, with a leading zero for weeks\n",
    "        rankings['SeasonWeek'] = f\"{season}_W{str(week).zfill(2)}\"\n",
    "        rankings['Season'] = season\n",
    "        rankings['Week'] = week\n",
    "        \n",
    "        # Append the rankings to the list\n",
    "        ranking_dfs.append(rankings)\n",
    "\n",
    "# Concatenate all rankings DataFrames into a single DataFrame\n",
    "final_rankings_df = pd.concat(ranking_dfs)\n",
    "\n",
    "# Create a cross-tab view (pivot table) where each row is a team, and each column is Season+Week\n",
    "pivot_df = final_rankings_df.pivot(index='Team', columns='SeasonWeek', values='Ranking')\n",
    "\n",
    "# Display the cross-tab DataFrame\n",
    "print(final_rankings_df.head())\n",
    "print(pivot_df.head())\n"
   ]
  },
  {
   "cell_type": "code",
   "execution_count": 14,
   "metadata": {},
   "outputs": [],
   "source": [
    "# Output the results and pivot table to a CSV file\n",
    "pivot_df.to_csv('../data/nfl_rankings_pivot.csv')\n",
    "final_rankings_df.to_csv('../data/nfl_rankings.csv')"
   ]
  },
  {
   "cell_type": "code",
   "execution_count": null,
   "metadata": {},
   "outputs": [],
   "source": [
    "print(final_rankings_df.dtypes)\n",
    "print(game_results.dtypes)"
   ]
  },
  {
   "cell_type": "code",
   "execution_count": 31,
   "metadata": {},
   "outputs": [],
   "source": [
    "def get_rank(team, season, week, rankings_df):\n",
    "    # Check if the week is 1 or if the team/season/week combination exists in the rankings\n",
    "    if week == 1:\n",
    "        return None  # No ranking data for week 1\n",
    "    rank_row = rankings_df[(rankings_df['Team'] == team) & \n",
    "                           (rankings_df['Season'] == season) & \n",
    "                           (rankings_df['Week'] == week)]\n",
    "    if rank_row.empty:\n",
    "        return None  # Return None if no ranking data is available for this team/season/week\n",
    "    return rank_row['Ranking'].values[0]\n",
    "\n",
    "def predict_winner(team_1, team_2, rank_1, rank_2):\n",
    "    # Handle cases where either rank_1 or rank_2 is None\n",
    "    if rank_1 is None or rank_2 is None:\n",
    "        # print(f\"Warning: Missing ranking for {team_1} or {team_2}. Skipping prediction.\")\n",
    "        return None  # No prediction for this game if any rank is None\n",
    "    \n",
    "    # If both ranks are available, predict the winner\n",
    "    return team_1 if rank_1 > rank_2 else team_2"
   ]
  },
  {
   "cell_type": "code",
   "execution_count": 125,
   "metadata": {},
   "outputs": [
    {
     "name": "stdout",
     "output_type": "stream",
     "text": [
      "Prediction accuracy: 70.29%\n",
      "Games predicted: 441\n"
     ]
    }
   ],
   "source": [
    "correct_predictions = 0\n",
    "total_games = 0\n",
    "\n",
    "game_results['rank_1'] = None  # Ranking for team_1\n",
    "game_results['rank_2'] = None  # Ranking for team_2\n",
    "game_results['rank_diff'] = None  # Ranking for team_2\n",
    "game_results['predicted_winner'] = None  # Predicted winner\n",
    "game_results['correct'] = None  # Predicted winner\n",
    "\n",
    "for index, row in game_results.iterrows():\n",
    "    if row['week'] > 4:\n",
    "        rank_1 = get_rank(row['Home Team Abbr'], row['season'], row['week'] - 1, final_rankings_df)\n",
    "        rank_2 = get_rank(row['Away Team Abbr'], row['season'], row['week'] - 1, final_rankings_df)\n",
    "\n",
    "        # Store the rankings in the DataFrame\n",
    "        game_results.at[index, 'rank_1'] = rank_1\n",
    "        game_results.at[index, 'rank_2'] = rank_2\n",
    "        if rank_1 is not None and rank_2 is not None:\n",
    "            rank_diff = round(rank_1 - rank_2,5)\n",
    "            game_results.at[index, 'rank_diff'] = rank_diff\n",
    "            if abs(rank_diff) < 0.05:\n",
    "                continue\n",
    "        else:\n",
    "            game_results.at[index, 'rank_diff'] = None  # Or some default value like 0\n",
    "            continue\n",
    "        \n",
    "        predicted_winner = predict_winner(row['Home Team Abbr'], row['Away Team Abbr'], rank_1, rank_2)\n",
    "        game_results.at[index, 'predicted_winner'] = predicted_winner\n",
    "\n",
    "        if predicted_winner is None:\n",
    "            continue  # Skip this game if no prediction could be made\n",
    "\n",
    "        actual_winner = row['winner']\n",
    "        if actual_winner is None:\n",
    "            continue  # Skip this game if no prediction could be made\n",
    "        \n",
    "        if predicted_winner == actual_winner:\n",
    "            correct_predictions += 1\n",
    "            game_results.at[index, 'correct'] = True\n",
    "        else:\n",
    "            game_results.at[index, 'correct'] = False\n",
    "        total_games += 1 \n",
    "\n",
    "accuracy = correct_predictions / total_games\n",
    "print(f\"Prediction accuracy: {accuracy:.2%}\")\n",
    "print(f\"Games predicted: {total_games}\")"
   ]
  },
  {
   "cell_type": "code",
   "execution_count": 39,
   "metadata": {},
   "outputs": [],
   "source": [
    "# Output the results to a CSV file\n",
    "game_results.to_csv('../data/nfl_games_predictions.csv')"
   ]
  }
 ],
 "metadata": {
  "kernelspec": {
   "display_name": "Python 3",
   "language": "python",
   "name": "python3"
  },
  "language_info": {
   "codemirror_mode": {
    "name": "ipython",
    "version": 3
   },
   "file_extension": ".py",
   "mimetype": "text/x-python",
   "name": "python",
   "nbconvert_exporter": "python",
   "pygments_lexer": "ipython3",
   "version": "3.9.6"
  }
 },
 "nbformat": 4,
 "nbformat_minor": 2
}
