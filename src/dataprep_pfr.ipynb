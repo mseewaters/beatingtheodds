{
 "cells": [
  {
   "cell_type": "code",
   "execution_count": 9,
   "metadata": {},
   "outputs": [],
   "source": [
    "import pandas as pd\n",
    "import datetime\n",
    "\n",
    "#Load the game data to pandas data frame\n",
    "df_season_map  = pd.read_csv('../data/game_dates_season.csv')\n",
    "df_raw = pd.read_csv('../data/nfl_games_pfr_raw.csv')\n",
    "df_teams = pd.read_csv('../data/teams.csv')"
   ]
  },
  {
   "cell_type": "code",
   "execution_count": 3,
   "metadata": {},
   "outputs": [
    {
     "name": "stdout",
     "output_type": "stream",
     "text": [
      "   Week  Day        Date    Time           Winner/tie Unnamed: 5  \\\n",
      "0     1  Thu  2024-09-05  8:20PM   Kansas City Chiefs        NaN   \n",
      "1     1  Fri  2024-09-06  8:15PM  Philadelphia Eagles        NaN   \n",
      "2     1  Sun  2024-09-08  1:00PM  Pittsburgh Steelers          @   \n",
      "3     1  Sun  2024-09-08  1:00PM       Houston Texans          @   \n",
      "4     1  Sun  2024-09-08  1:00PM       Miami Dolphins        NaN   \n",
      "\n",
      "              Loser/tie Unnamed: 7  PtsW  PtsL  YdsW  TOW  YdsL  TOL  \n",
      "0      Baltimore Ravens   boxscore    27    20   353    1   452    1  \n",
      "1     Green Bay Packers   boxscore    34    29   410    3   414    1  \n",
      "2       Atlanta Falcons   boxscore    18    10   270    0   226    3  \n",
      "3    Indianapolis Colts   boxscore    29    27   417    0   303    1  \n",
      "4  Jacksonville Jaguars   boxscore    20    17   400    0   267    1  \n"
     ]
    }
   ],
   "source": [
    "print(df_raw.head())"
   ]
  },
  {
   "cell_type": "code",
   "execution_count": 32,
   "metadata": {},
   "outputs": [
    {
     "name": "stdout",
     "output_type": "stream",
     "text": [
      "   Week  Day        Date    Time               Winner LoserIsHome  \\\n",
      "0     1  Thu  2024-09-05  8:20PM   Kansas City Chiefs         NaN   \n",
      "1     1  Fri  2024-09-06  8:15PM  Philadelphia Eagles         NaN   \n",
      "2     1  Sun  2024-09-08  1:00PM  Pittsburgh Steelers           @   \n",
      "3     1  Sun  2024-09-08  1:00PM       Houston Texans           @   \n",
      "4     1  Sun  2024-09-08  1:00PM       Miami Dolphins         NaN   \n",
      "\n",
      "                  Loser  PtsW  PtsL  YdsW  ...  Winner Abbr  Loser Abbr  \\\n",
      "0      Baltimore Ravens    27    20   353  ...           KC         BAL   \n",
      "1     Green Bay Packers    34    29   410  ...          PHI          GB   \n",
      "2       Atlanta Falcons    18    10   270  ...          PIT         ATL   \n",
      "3    Indianapolis Colts    29    27   417  ...          HOU         IND   \n",
      "4  Jacksonville Jaguars    20    17   400  ...          MIA         JAC   \n",
      "\n",
      "   Home Team  Away Team  Winner Yds Loser Yds Margin Yds Winner TO Loser TO  \\\n",
      "0         KC        BAL         BAL        KC         99        KC      BAL   \n",
      "1        PHI         GB          GB       PHI          4       PHI       GB   \n",
      "2        ATL        PIT         PIT       ATL         44       ATL      PIT   \n",
      "3        IND        HOU         HOU       IND        114       IND      HOU   \n",
      "4        MIA        JAC         MIA       JAC        133       JAC      MIA   \n",
      "\n",
      "  Margin TO  \n",
      "0         0  \n",
      "1         2  \n",
      "2         3  \n",
      "3         1  \n",
      "4         1  \n",
      "\n",
      "[5 rows x 25 columns]\n"
     ]
    }
   ],
   "source": [
    "#Columns: Week,Day,Date,Time,Winner/tie,Unnamed: 5,Loser/tie,,PtsW,PtsL,YdsW,TOW,YdsL,TOL\n",
    "df_games = df_raw\n",
    "df_teams_abbr = df_teams[['Team Name','Team Abbr']]\n",
    "\n",
    "df_games = pd.merge(df_games, df_season_map, on='Date', how='left')\n",
    "df_games = pd.merge(df_games, df_teams_abbr, left_on='Winner/tie', right_on='Team Name', how='left')\n",
    "df_games = pd.merge(df_games, df_teams_abbr, left_on='Loser/tie', right_on='Team Name', how='left')\n",
    "\n",
    "if len(df_games[df_games['season'].isna()])==0:\n",
    "    df_games[['season','week']] = df_games[['season','week']].round().astype(int)\n",
    "    \n",
    "else:\n",
    "    print(\"Some game dates not included in mapping file\")\n",
    "    print(df_games[df_games['season'].isna()])\n",
    "\n",
    "df_games = df_games.drop(columns=['Unnamed: 7','Unnamed: 0','Team Name_x','Team Name_y']).rename(columns={'Unnamed: 5':'LoserIsHome', 'Winner/tie':'Winner','Loser/tie':'Loser', 'Team Abbr_x':'Winner Abbr','Team Abbr_y':'Loser Abbr'})\n",
    "df_games['Home Team'] = df_games.apply(lambda row: row['Loser Abbr'] if row['LoserIsHome']==\"@\" else row['Winner Abbr'], axis=1)\n",
    "df_games['Away Team'] = df_games.apply(lambda row: row['Winner Abbr'] if row['LoserIsHome']==\"@\" else row['Loser Abbr'], axis=1)\n",
    "df_games['Winner Yds'] = df_games.apply(lambda row: row['Winner Abbr'] if row['YdsW']>=row['YdsL'] else row['Loser Abbr'], axis=1)\n",
    "df_games['Loser Yds'] = df_games.apply(lambda row: row['Winner Abbr'] if row['YdsW']<row['YdsL'] else row['Loser Abbr'], axis=1)\n",
    "df_games['Margin Yds'] = df_games.apply(lambda row: abs(row['YdsW']-row['YdsL']), axis=1)\n",
    "df_games['Winner TO'] = df_games.apply(lambda row: row['Winner Abbr'] if row['TOW']>=row['TOL'] else row['Loser Abbr'], axis=1)\n",
    "df_games['Loser TO'] = df_games.apply(lambda row: row['Winner Abbr'] if row['TOW']<row['TOL'] else row['Loser Abbr'], axis=1)\n",
    "df_games['Margin TO'] = df_games.apply(lambda row: abs(row['TOW']-row['TOL']), axis=1)\n",
    "\n",
    "print(df_games.head())\n",
    "\n",
    "#print(df_games[df_games['Team Abbr_x'].isna()])\n",
    "### Need to add error handling for unmapped abbreviations"
   ]
  },
  {
   "cell_type": "code",
   "execution_count": 33,
   "metadata": {},
   "outputs": [],
   "source": [
    "df_games.to_csv('../data/nfl_games_pfr.csv')"
   ]
  }
 ],
 "metadata": {
  "kernelspec": {
   "display_name": "Python 3",
   "language": "python",
   "name": "python3"
  },
  "language_info": {
   "codemirror_mode": {
    "name": "ipython",
    "version": 3
   },
   "file_extension": ".py",
   "mimetype": "text/x-python",
   "name": "python",
   "nbconvert_exporter": "python",
   "pygments_lexer": "ipython3",
   "version": "3.10.6"
  }
 },
 "nbformat": 4,
 "nbformat_minor": 2
}
