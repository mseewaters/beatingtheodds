{
 "cells": [
  {
   "cell_type": "markdown",
   "metadata": {},
   "source": [
    "# Code to map the dates of NFL games to their seasons and weeks\n",
    "\n",
    "** Note the the 2012 start date in all data has been changed to 2012-09-06 as the 2012 season started on a Wednesday rather than the traditional Thursday. **\n",
    "\n",
    "This outputs a csv file with Date, Season, and Week Number."
   ]
  },
  {
   "cell_type": "code",
   "execution_count": 7,
   "metadata": {},
   "outputs": [
    {
     "name": "stdout",
     "output_type": "stream",
     "text": [
      "          Date  season  week\n",
      "0   2024-09-23    2024     3\n",
      "1   2024-09-22    2024     3\n",
      "2   2024-09-19    2024     3\n",
      "3   2024-09-16    2024     2\n",
      "4   2024-09-15    2024     2\n",
      "..         ...     ...   ...\n",
      "984 2006-09-18    2006     2\n",
      "985 2006-09-17    2006     2\n",
      "986 2006-09-11    2006     1\n",
      "987 2006-09-10    2006     1\n",
      "988 2006-09-07    2006     1\n",
      "\n",
      "[989 rows x 3 columns]\n"
     ]
    }
   ],
   "source": [
    "import pandas as pd\n",
    "import datetime\n",
    "\n",
    "#Load the game data to pandas data frame\n",
    "df  = pd.read_csv('../data/game_dates.csv')\n",
    "\n",
    "# Example of setting start dates for each season\n",
    "season_start_dates = {\n",
    "    2024: datetime.date(2024, 9, 5),\n",
    "    2023: datetime.date(2023, 9, 7),  # Example date for the start of the 2023 season\n",
    "    2022: datetime.date(2022, 9, 8),\n",
    "    2021: datetime.date(2021, 9, 9),\n",
    "    2020: datetime.date(2020, 9, 10),\n",
    "    2019: datetime.date(2019, 9, 5),\n",
    "    2018: datetime.date(2018, 9, 6),\n",
    "    2017: datetime.date(2017, 9, 7),\n",
    "    2016: datetime.date(2016, 9, 8),\n",
    "    2015: datetime.date(2015, 9, 10),\n",
    "    2014: datetime.date(2014, 9, 4),\n",
    "    2013: datetime.date(2013, 9, 5),\n",
    "    2012: datetime.date(2012, 9, 6),\n",
    "    2011: datetime.date(2011, 9, 8),\n",
    "    2010: datetime.date(2010, 9, 9),\n",
    "    2009: datetime.date(2009, 9, 10),\n",
    "    2008: datetime.date(2008, 9, 4),\n",
    "    2007: datetime.date(2007, 9, 6),\n",
    "    2006: datetime.date(2006, 9, 7)\n",
    "    # Add more seasons as needed\n",
    "}\n",
    "\n",
    "def get_season_and_week(game_date):\n",
    "    game_date = game_date.date()  # Convert to datetime.date for comparison\n",
    "    for season, start_date in season_start_dates.items():\n",
    "        if start_date <= game_date < (start_date + datetime.timedelta(days=365)):\n",
    "            week = ((game_date - start_date).days // 7) + 1\n",
    "            return season, week\n",
    "    return None, None  # In case the date doesn't match any season\n",
    "\n",
    "# Example usage with your dataset\n",
    "#df = pd.DataFrame({'game_date': [datetime.date(2023, 9, 10), datetime.date(2022, 9, 11)]})\n",
    "df['Date'] = pd.to_datetime(df['Date'])\n",
    "df['season'], df['week'] = zip(*df['Date'].apply(get_season_and_week))\n",
    "\n",
    "print(df)"
   ]
  },
  {
   "cell_type": "code",
   "execution_count": 8,
   "metadata": {},
   "outputs": [],
   "source": [
    "df.to_csv('../data/game_dates_season.csv')"
   ]
  }
 ],
 "metadata": {
  "kernelspec": {
   "display_name": "Python 3",
   "language": "python",
   "name": "python3"
  },
  "language_info": {
   "codemirror_mode": {
    "name": "ipython",
    "version": 3
   },
   "file_extension": ".py",
   "mimetype": "text/x-python",
   "name": "python",
   "nbconvert_exporter": "python",
   "pygments_lexer": "ipython3",
   "version": "3.9.6"
  }
 },
 "nbformat": 4,
 "nbformat_minor": 2
}
