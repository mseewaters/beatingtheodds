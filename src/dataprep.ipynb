{
 "cells": [
  {
   "cell_type": "code",
   "execution_count": 1,
   "metadata": {},
   "outputs": [],
   "source": [
    "import pandas as pd\n",
    "import datetime\n",
    "\n",
    "#Load the game data to pandas data frame\n",
    "df_season_map  = pd.read_csv('../data/game_dates_season.csv')\n",
    "df_raw = pd.read_csv('../data/nfl_games_raw.csv')\n",
    "df_teams = pd.read_csv('../data/teams.csv')"
   ]
  },
  {
   "cell_type": "code",
   "execution_count": 2,
   "metadata": {},
   "outputs": [
    {
     "name": "stdout",
     "output_type": "stream",
     "text": [
      "         Date           Home Team              Away Team  Home Score  \\\n",
      "0  2024-09-23  Cincinnati Bengals  Washington Commanders          33   \n",
      "1  2024-09-23       Buffalo Bills   Jacksonville Jaguars          47   \n",
      "2  2024-09-22     Atlanta Falcons     Kansas City Chiefs          17   \n",
      "3  2024-09-22   Arizona Cardinals          Detroit Lions          13   \n",
      "4  2024-09-22      Dallas Cowboys       Baltimore Ravens          25   \n",
      "\n",
      "   Away Score  Home Line Close  Away Line Close  Total Score Close  season  \\\n",
      "0          38             -7.5              7.5               46.0    2024   \n",
      "1          10             -4.0              4.0               46.5    2024   \n",
      "2          22              3.5             -3.5               46.5    2024   \n",
      "3          20              3.0             -3.0               51.5    2024   \n",
      "4          28              1.5             -1.5               47.5    2024   \n",
      "\n",
      "   week Home Team Abbr Away Team Abbr  \n",
      "0     3            CIN            WAS  \n",
      "1     3            BUF            JAC  \n",
      "2     3            ATL             KC  \n",
      "3     3            ARI            DET  \n",
      "4     3            DAL            BAL  \n"
     ]
    }
   ],
   "source": [
    "df_games = df_raw[['Date','Home Team','Away Team','Home Score','Away Score','Playoff Game?', 'Home Line Close','Away Line Close', 'Total Score Close']]\n",
    "df_games = pd.merge(df_games, df_season_map, on='Date', how='left')\n",
    "df_games = df_games.drop(columns=['Unnamed: 0'])\n",
    "\n",
    "df_teams_abbr = df_teams[['Team Name','Team Abbr']]\n",
    "df_games = pd.merge(df_games, df_teams_abbr, left_on='Home Team', right_on='Team Name', how='left')\n",
    "df_games = df_games.rename(columns={'Team Abbr':'Home Team Abbr'})\n",
    "df_games = df_games.drop(columns=['Team Name'])\n",
    "df_games = pd.merge(df_games, df_teams_abbr, left_on='Away Team', right_on='Team Name', how='left')\n",
    "df_games = df_games.rename(columns={'Team Abbr':'Away Team Abbr'})\n",
    "df_games = df_games.drop(columns=['Team Name'])\n",
    "df_games = df_games[df_games['Playoff Game?'].isna()]\n",
    "df_games = df_games.drop(columns=['Playoff Game?'])\n",
    "print(df_games.head())"
   ]
  },
  {
   "cell_type": "code",
   "execution_count": 3,
   "metadata": {},
   "outputs": [
    {
     "name": "stdout",
     "output_type": "stream",
     "text": [
      "         Date           Home Team              Away Team  Home Score  \\\n",
      "0  2024-09-23  Cincinnati Bengals  Washington Commanders          33   \n",
      "1  2024-09-23       Buffalo Bills   Jacksonville Jaguars          47   \n",
      "2  2024-09-22     Atlanta Falcons     Kansas City Chiefs          17   \n",
      "3  2024-09-22   Arizona Cardinals          Detroit Lions          13   \n",
      "4  2024-09-22      Dallas Cowboys       Baltimore Ravens          25   \n",
      "\n",
      "   Away Score  Home Line Close  Away Line Close  Total Score Close  season  \\\n",
      "0          38             -7.5              7.5               46.0    2024   \n",
      "1          10             -4.0              4.0               46.5    2024   \n",
      "2          22              3.5             -3.5               46.5    2024   \n",
      "3          20              3.0             -3.0               51.5    2024   \n",
      "4          28              1.5             -1.5               47.5    2024   \n",
      "\n",
      "   week Home Team Abbr Away Team Abbr winner loser  margin_victory  \\\n",
      "0     3            CIN            WAS    WAS   CIN               5   \n",
      "1     3            BUF            JAC    BUF   JAC              37   \n",
      "2     3            ATL             KC     KC   ATL               5   \n",
      "3     3            ARI            DET    DET   ARI               7   \n",
      "4     3            DAL            BAL    BAL   DAL               3   \n",
      "\n",
      "   total_score  margin_perc  home_team_winner  \n",
      "0           71     0.070423             False  \n",
      "1           57     0.649123              True  \n",
      "2           39     0.128205             False  \n",
      "3           33     0.212121             False  \n",
      "4           53     0.056604             False  \n"
     ]
    }
   ],
   "source": [
    "df_games['winner'] = df_games.apply(lambda row: row['Home Team Abbr'] if row['Home Score'] > row['Away Score'] else row['Away Team Abbr'], axis=1)\n",
    "df_games['loser'] = df_games.apply(lambda row: row['Away Team Abbr'] if row['Home Score'] > row['Away Score'] else row['Home Team Abbr'], axis=1)\n",
    "df_games['margin_victory'] = abs(df_games['Home Score'] - df_games['Away Score'])\n",
    "df_games['total_score'] = df_games['Home Score'] + df_games['Away Score']\n",
    "df_games['margin_perc'] = df_games['margin_victory'] / df_games['total_score']\n",
    "df_games['home_team_winner'] = df_games['Home Score'] > df_games['Away Score']\n",
    "\n",
    "print(df_games.head())"
   ]
  },
  {
   "cell_type": "code",
   "execution_count": 21,
   "metadata": {},
   "outputs": [],
   "source": [
    "df_games.to_csv('../data/nfl_games.csv')"
   ]
  }
 ],
 "metadata": {
  "kernelspec": {
   "display_name": "Python 3",
   "language": "python",
   "name": "python3"
  },
  "language_info": {
   "codemirror_mode": {
    "name": "ipython",
    "version": 3
   },
   "file_extension": ".py",
   "mimetype": "text/x-python",
   "name": "python",
   "nbconvert_exporter": "python",
   "pygments_lexer": "ipython3",
   "version": "3.10.6"
  }
 },
 "nbformat": 4,
 "nbformat_minor": 2
}
