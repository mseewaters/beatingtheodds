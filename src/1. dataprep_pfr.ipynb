{
 "cells": [
  {
   "cell_type": "code",
   "execution_count": 1,
   "metadata": {},
   "outputs": [],
   "source": [
    "import pandas as pd\n",
    "\n",
    "#Load the game data to pandas data frame\n",
    "df_season_map  = pd.read_csv('../data/game_dates_season.csv')\n",
    "df_raw = pd.read_csv('../data/nfl_games_pfr_raw.csv')\n",
    "df_teams = pd.read_csv('../data/teams.csv')"
   ]
  },
  {
   "cell_type": "code",
   "execution_count": 2,
   "metadata": {},
   "outputs": [
    {
     "name": "stdout",
     "output_type": "stream",
     "text": [
      "   Week  Day        Date    Time            Winner/tie Unnamed: 5  \\\n",
      "0     1  Thu  2025-09-04  8:20PM   Philadelphia Eagles        NaN   \n",
      "1     1  Fri  2025-09-05  8:00PM  Los Angeles Chargers        NaN   \n",
      "2     1  Sun  2025-09-07  1:00PM  Jacksonville Jaguars        NaN   \n",
      "3     1  Sun  2025-09-07  1:00PM   Pittsburgh Steelers          @   \n",
      "4     1  Sun  2025-09-07  1:00PM    Cincinnati Bengals          @   \n",
      "\n",
      "            Loser/tie Unnamed: 7  PtsW  PtsL   YdsW  TOW   YdsL  TOL  \n",
      "0      Dallas Cowboys   boxscore  24.0  20.0  302.0  0.0  307.0  1.0  \n",
      "1  Kansas City Chiefs   boxscore  27.0  21.0  394.0  0.0  347.0  0.0  \n",
      "2   Carolina Panthers   boxscore  26.0  10.0  378.0  1.0  255.0  3.0  \n",
      "3       New York Jets   boxscore  34.0  32.0  271.0  0.0  394.0  1.0  \n",
      "4    Cleveland Browns   boxscore  17.0  16.0  141.0  0.0  327.0  2.0  \n",
      "Index(['Week', 'Day', 'Date', 'Time', 'Winner/tie', 'Unnamed: 5', 'Loser/tie',\n",
      "       'Unnamed: 7', 'PtsW', 'PtsL', 'YdsW', 'TOW', 'YdsL', 'TOL'],\n",
      "      dtype='object')\n",
      "2905\n"
     ]
    }
   ],
   "source": [
    "print(df_raw.head())\n",
    "print(df_raw.columns)\n",
    "print(len(df_raw))"
   ]
  },
  {
   "cell_type": "code",
   "execution_count": 3,
   "metadata": {},
   "outputs": [
    {
     "name": "stdout",
     "output_type": "stream",
     "text": [
      "   Week  Day        Date    Time                Winner LoserIsHome  \\\n",
      "0     1  Thu  2025-09-04  8:20PM   Philadelphia Eagles         NaN   \n",
      "1     1  Fri  2025-09-05  8:00PM  Los Angeles Chargers         NaN   \n",
      "2     1  Sun  2025-09-07  1:00PM  Jacksonville Jaguars         NaN   \n",
      "3     1  Sun  2025-09-07  1:00PM   Pittsburgh Steelers           @   \n",
      "4     1  Sun  2025-09-07  1:00PM    Cincinnati Bengals           @   \n",
      "\n",
      "                Loser  PtsW  PtsL   YdsW  ...  Loser Yds  Margin Yds  \\\n",
      "0      Dallas Cowboys  24.0  20.0  302.0  ...        PHI         5.0   \n",
      "1  Kansas City Chiefs  27.0  21.0  394.0  ...         KC        47.0   \n",
      "2   Carolina Panthers  26.0  10.0  378.0  ...        CAR       123.0   \n",
      "3       New York Jets  34.0  32.0  271.0  ...        PIT       123.0   \n",
      "4    Cleveland Browns  17.0  16.0  141.0  ...        CIN       186.0   \n",
      "\n",
      "   Winner TO  Loser TO  Margin TO Margin Pts Total Pts Margin Pct  \\\n",
      "0        DAL       PHI        1.0        4.0      44.0      -40.0   \n",
      "1        LAC        KC        0.0        6.0      48.0      -42.0   \n",
      "2        CAR       JAC        2.0       16.0      36.0      -20.0   \n",
      "3        NYJ       PIT        1.0        2.0      66.0      -64.0   \n",
      "4        CLE       CIN        2.0        1.0      33.0      -32.0   \n",
      "\n",
      "  home_team_winner  away_win_bonus  \n",
      "0             True               0  \n",
      "1             True               0  \n",
      "2             True               0  \n",
      "3            False               1  \n",
      "4            False               1  \n",
      "\n",
      "[5 rows x 32 columns]\n"
     ]
    }
   ],
   "source": [
    "# I'm the worst documentation writer ever. Thank heavens for Copilot!\n",
    "#Columns: Week,Day,Date,Time,Winner/tie,Unnamed: 5,Loser/tie,,PtsW,PtsL,YdsW,TOW,YdsL,TOL\n",
    "\"\"\"\n",
    "This script processes and prepares game data for analysis by merging and transforming various dataframes.\n",
    "Steps:\n",
    "1. Load raw game data and team abbreviation mappings.\n",
    "2. Merge game data with season mapping based on the 'Date' column.\n",
    "3. Merge game data with team abbreviations for both winners and losers.\n",
    "4. Check for any missing season data and print a message if any are found.\n",
    "5. Drop unnecessary columns and rename columns for clarity.\n",
    "6. Create new columns to identify home and away teams, winners and losers based on yards and turnovers, and calculate various margins and totals.\n",
    "7. Add columns to indicate if the home team won and if there is an away win bonus.\n",
    "Columns:\n",
    "- Week: The week of the game.\n",
    "- Day: The day of the game.\n",
    "- Date: The date of the game.\n",
    "- Time: The time of the game.\n",
    "- Winner/tie: The winning team or if the game was a tie.\n",
    "- Unnamed: 5: Indicates if the loser is the home team.\n",
    "- Loser/tie: The losing team or if the game was a tie.\n",
    "- PtsW: Points scored by the winning team.\n",
    "- PtsL: Points scored by the losing team.\n",
    "- YdsW: Yards gained by the winning team.\n",
    "- TOW: Turnovers by the winning team.\n",
    "- YdsL: Yards gained by the losing team.\n",
    "- TOL: Turnovers by the losing team.\n",
    "New Columns:\n",
    "- Home Team: The home team based on the 'LoserIsHome' column.\n",
    "- Away Team: The away team based on the 'LoserIsHome' column.\n",
    "- Winner Yds: The team with more yards.\n",
    "- Loser Yds: The team with fewer yards.\n",
    "- Margin Yds: The absolute difference in yards between the two teams.\n",
    "- Winner TO: The team with more turnovers.\n",
    "- Loser TO: The team with fewer turnovers.\n",
    "- Margin TO: The absolute difference in turnovers between the two teams.\n",
    "- Margin Pts: The absolute difference in points between the two teams.\n",
    "- Total Pts: The total points scored in the game.\n",
    "- Margin Pct: The difference between 'Margin Pts' and 'Total Pts'.\n",
    "- home_team_winner: Boolean indicating if the home team won.\n",
    "- away_win_bonus: Bonus point if the away team won.\n",
    "Note:\n",
    "- Error handling for unmapped abbreviations needs to be added.\n",
    "\"\"\"\n",
    "df_games = df_raw\n",
    "df_teams_abbr = df_teams[['Team Name','Team Abbr']]\n",
    "\n",
    "df_games = pd.merge(df_games, df_season_map, on='Date', how='left')\n",
    "df_games = pd.merge(df_games, df_teams_abbr, left_on='Winner/tie', right_on='Team Name', how='left')\n",
    "df_games = pd.merge(df_games, df_teams_abbr, left_on='Loser/tie', right_on='Team Name', how='left')\n",
    "\n",
    "if len(df_games[df_games['season'].isna()])==0:\n",
    "    df_games[['season','week']] = df_games[['season','week']].round().astype(int)\n",
    "    \n",
    "else:\n",
    "    print(\"***Some game dates not included in mapping file\")\n",
    "    print(df_games[df_games['season'].isna()])\n",
    "\n",
    "df_games = df_games.drop(columns=['Unnamed: 7','Unnamed: 0','Team Name_x','Team Name_y']).rename(columns={'Unnamed: 5':'LoserIsHome', 'Winner/tie':'Winner','Loser/tie':'Loser', 'Team Abbr_x':'Winner Abbr','Team Abbr_y':'Loser Abbr'})\n",
    "df_games['Home Team'] = df_games.apply(lambda row: row['Loser Abbr'] if row['LoserIsHome']==\"@\" else row['Winner Abbr'], axis=1)\n",
    "df_games['Away Team'] = df_games.apply(lambda row: row['Winner Abbr'] if row['LoserIsHome']==\"@\" else row['Loser Abbr'], axis=1)\n",
    "df_games['Home Score'] = df_games.apply(lambda row: row['PtsL'] if row['LoserIsHome'] == \"@\" else row['PtsW'], axis=1)\n",
    "df_games['Away Score'] = df_games.apply(lambda row: row['PtsW'] if row['LoserIsHome'] == \"@\" else row['PtsL'], axis=1)\n",
    "df_games['Winner Yds'] = df_games.apply(lambda row: row['Winner Abbr'] if row['YdsW']>=row['YdsL'] else row['Loser Abbr'], axis=1)\n",
    "df_games['Loser Yds'] = df_games.apply(lambda row: row['Winner Abbr'] if row['YdsW']<row['YdsL'] else row['Loser Abbr'], axis=1)\n",
    "df_games['Margin Yds'] = df_games.apply(lambda row: abs(row['YdsW']-row['YdsL']), axis=1)\n",
    "df_games['Winner TO'] = df_games.apply(lambda row: row['Winner Abbr'] if row['TOW']>=row['TOL'] else row['Loser Abbr'], axis=1)\n",
    "df_games['Loser TO'] = df_games.apply(lambda row: row['Winner Abbr'] if row['TOW']<row['TOL'] else row['Loser Abbr'], axis=1)\n",
    "df_games['Margin TO'] = df_games.apply(lambda row: abs(row['TOW']-row['TOL']), axis=1)\n",
    "df_games['Margin Pts'] = df_games.apply(lambda row: abs(row['PtsW']-row['PtsL']), axis=1)\n",
    "df_games['Total Pts'] = df_games.apply(lambda row: abs(row['PtsW']+row['PtsL']), axis=1)\n",
    "df_games['Margin Pct'] = df_games.apply(lambda row: row['Margin Pts']-row['Total Pts'], axis=1)\n",
    "df_games['home_team_winner'] = df_games.apply(lambda row: False if row['LoserIsHome']==\"@\" else True, axis=1)\n",
    "df_games['away_win_bonus'] = df_games.apply(lambda row: 0 if row['home_team_winner'] else 1, axis=1)\n",
    "\n",
    "print(df_games.head())\n",
    "\n",
    "#print(df_games[df_games['Team Abbr_x'].isna()])\n",
    "### Need to add error handling for unmapped abbreviations"
   ]
  },
  {
   "cell_type": "code",
   "execution_count": 4,
   "metadata": {},
   "outputs": [
    {
     "name": "stdout",
     "output_type": "stream",
     "text": [
      "Index(['Week', 'Day', 'Date', 'Time', 'Winner', 'LoserIsHome', 'Loser', 'PtsW',\n",
      "       'PtsL', 'YdsW', 'TOW', 'YdsL', 'TOL', 'season', 'week', 'Winner Abbr',\n",
      "       'Loser Abbr', 'Home Team', 'Away Team', 'Home Score', 'Away Score',\n",
      "       'Winner Yds', 'Loser Yds', 'Margin Yds', 'Winner TO', 'Loser TO',\n",
      "       'Margin TO', 'Margin Pts', 'Total Pts', 'Margin Pct',\n",
      "       'home_team_winner', 'away_win_bonus', 'DateTime',\n",
      "       'DaysSinceLastGame_Home', 'DaysSinceLastGame_Away'],\n",
      "      dtype='object')\n"
     ]
    }
   ],
   "source": [
    "# Convert 'Date' column to datetime\n",
    "df_games['DateTime'] = pd.to_datetime(df_games['Date'])\n",
    "\n",
    "# Create a long-form DataFrame with team names and dates\n",
    "home_teams = df_games[['DateTime', 'Home Team', 'season', 'week']].rename(columns={'Home Team': 'Team'})\n",
    "away_teams = df_games[['DateTime', 'Away Team', 'season', 'week']].rename(columns={'Away Team': 'Team'})\n",
    "all_games = pd.concat([home_teams, away_teams])\n",
    "\n",
    "# Sort by team, season, and date\n",
    "all_games = all_games.sort_values(by=['Team', 'season', 'DateTime'])\n",
    "\n",
    "# Calculate days since last game for each team within each season\n",
    "all_games['DaysSinceLastGame'] = all_games.groupby(['Team', 'season'])['DateTime'].diff().dt.days\n",
    "\n",
    "# Assign a default value of days for Week 1 (to represent off-season) or for NaN (2017 season hurricane impacts)\n",
    "all_games.loc[all_games['week'] == 1, 'DaysSinceLastGame'] = 21\n",
    "all_games['DaysSinceLastGame'] = all_games['DaysSinceLastGame'].fillna(21)\n",
    "all_games['DaysSinceLastGame'] = all_games['DaysSinceLastGame'].astype(int)\n",
    "\n",
    "# Merge back with the original DataFrame to add the days since last game for both teams\n",
    "df_games = df_games.merge(all_games.rename(columns={'Team': 'Home Team', 'DaysSinceLastGame': 'DaysSinceLastGame_Home'}),\n",
    "              on=['DateTime', 'Home Team', 'season', 'week'], how='left')\n",
    "df_games = df_games.merge(all_games.rename(columns={'Team': 'Away Team', 'DaysSinceLastGame': 'DaysSinceLastGame_Away'}),\n",
    "              on=['DateTime', 'Away Team', 'season', 'week'], how='left')\n",
    "\n",
    "#print(df_games.head())\n",
    "print(df_games.columns)"
   ]
  },
  {
   "cell_type": "code",
   "execution_count": 5,
   "metadata": {},
   "outputs": [],
   "source": [
    "df_games.to_csv('../data/nfl_games_pfr.csv')"
   ]
  }
 ],
 "metadata": {
  "kernelspec": {
   "display_name": "Python 3",
   "language": "python",
   "name": "python3"
  },
  "language_info": {
   "codemirror_mode": {
    "name": "ipython",
    "version": 3
   },
   "file_extension": ".py",
   "mimetype": "text/x-python",
   "name": "python",
   "nbconvert_exporter": "python",
   "pygments_lexer": "ipython3",
   "version": "3.13.7"
  }
 },
 "nbformat": 4,
 "nbformat_minor": 2
}
